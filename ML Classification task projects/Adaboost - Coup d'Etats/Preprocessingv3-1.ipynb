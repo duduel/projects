{
 "cells": [
  {
   "cell_type": "code",
   "execution_count": 49,
   "id": "ef7d18d3",
   "metadata": {
    "id": "ef7d18d3"
   },
   "outputs": [],
   "source": [
    "import numpy as np\n",
    "import pandas as pd\n",
    "import matplotlib.pyplot as plt\n",
    "import seaborn as sns\n",
    "from datetime import datetime\n"
   ]
  },
  {
   "cell_type": "markdown",
   "id": "2bde1913",
   "metadata": {
    "id": "2bde1913"
   },
   "source": [
    "# Load Data and Correct Errors"
   ]
  },
  {
   "cell_type": "code",
   "execution_count": 50,
   "id": "555a71c9",
   "metadata": {
    "colab": {
     "base_uri": "https://localhost:8080/",
     "height": 380
    },
    "id": "555a71c9",
    "outputId": "fa201738-4b1f-417a-b51a-4bbb789ef3c6"
   },
   "outputs": [],
   "source": [
    "coup = pd.read_csv(\"data/Coup_Data_v2.0.0.csv\")\n",
    "# WHO MISPELLS ECUADOR!\n",
    "coup['country'] = np.where(coup.country == 'Ecudaor', 'Ecuador', coup.country)\n",
    "coup['country'] = np.where(coup.country == 'Surinam', 'Suriname', coup.country)"
   ]
  },
  {
   "cell_type": "markdown",
   "id": "b818df6a",
   "metadata": {
    "id": "b818df6a"
   },
   "source": [
    "# Merge Regional Data"
   ]
  },
  {
   "cell_type": "code",
   "execution_count": 51,
   "id": "35791f14",
   "metadata": {
    "id": "35791f14"
   },
   "outputs": [],
   "source": [
    "# Get desired columns\n",
    "cols = ['region', 'sub-region', 'name']\n",
    "\n",
    "# Deal with different naming conventions\n",
    "countries = pd.read_csv('data/country_info.csv', usecols=cols)\n",
    "countries.rename(columns={'name': 'country'},inplace=True)\n",
    "countries['country'] = np.where(countries.country == 'Timor-Leste', 'East Timor',\n",
    "                               np.where(countries.country == 'Venezuela (Bolivarian Republic of)', 'Venezuela',\n",
    "                                       np.where(countries.country== \"Lao People's Democratic Republic\", 'Laos',\n",
    "                                               np.where(countries.country == \"Viet Nam\", 'Republic of Vietnam',\n",
    "                                                       np.where(countries.country == 'Bolivia (Plurinational State of)', 'Bolivia',\n",
    "                                                               np.where(countries.country == 'Congo, Democratic Republic of the', 'Democratic Republic of the Congo',\n",
    "                                                                        np.where(countries.country == \"Korea, Republic of\", 'Republic of Korea',\n",
    "                                                                                 np.where(countries.country =='Slovakia','Czechoslovakia', \n",
    "                                                                                          np.where(countries.country == 'Germany', 'German Democratic Republic',\n",
    "                                                                                                   np.where(countries.country == 'Iran (Islamic Republic of)', 'Iran', \n",
    "                                                                                                            np.where(countries.country == 'Romania', 'Rumania', \n",
    "                                                                                                                     np.where(countries.country =='Russian Federation', 'Russia', \n",
    "                                                                                                                              np.where(countries.country == 'Syrian Arab Republic', 'Syria', \n",
    "                                                                                                                                       np.where(countries.country == 'Eswatini', 'Swaziland', \n",
    "                                                                                                                                                np.where(countries.country == 'Tanzania, United Republic of', 'Tanzania', \n",
    "                                                                                                                                                np.where(countries.country == \"Côte d'Ivoire\", \"Cote d'Ivoire\", countries.country))))))))))))))))\n",
    "\n",
    "\n",
    "coup = pd.merge(coup,countries, how='left', on=['country'])\n",
    "\n",
    "coup['sub-region'] = np.where(coup.country == 'Ivory Coast', 'Sub-Saharan Africa', \n",
    "                                np.where(coup.country == 'Kyrgyz Republic', 'Central Asia', \n",
    "                                         np.where(coup.country == 'USSR', 'Eastern Europe', \n",
    "                                                  np.where(coup.country == 'Yemen Arab Republic','Western Asia', \n",
    "                                                           np.where(coup.country == 'Yemen PDR', 'Western Asia',coup['sub-region'])))))\n",
    "\n",
    "coup['region'] = np.where(coup.country == 'Ivory Coast', 'Africa', \n",
    "                                np.where(coup.country == 'Kyrgyz Republic', 'Asia', \n",
    "                                         np.where(coup.country == 'USSR', 'Europe', \n",
    "                                                  np.where(coup.country == 'Yemen Arab Republic','Asia', \n",
    "                                                           np.where(coup.country == 'Yemen PDR', 'Asia',coup.region)))))"
   ]
  },
  {
   "cell_type": "markdown",
   "id": "44fa255c",
   "metadata": {
    "id": "44fa255c"
   },
   "source": [
    "# Merge Gini Data"
   ]
  },
  {
   "cell_type": "code",
   "execution_count": 52,
   "id": "81052249",
   "metadata": {
    "id": "81052249"
   },
   "outputs": [],
   "source": [
    "gini = pd.read_csv('data/gini_2100.csv')\n",
    "gini['country'] = np.where(gini.country == 'Congo, Rep.', 'Congo',\n",
    "                           np.where(gini.country == 'Congo, Dem. Rep.', 'Democratic Republic of the Congo',\n",
    "                                    np.where(gini.country == 'Timor-Leste', 'East Timor', \n",
    "                                             np.where(gini.country=='South Korea', 'Republic of Korea',\n",
    "                                                      np.where(gini.country=='Lao','Laos', \n",
    "                                                               np.where(gini.country == 'United States', 'United States of America', \n",
    "                                                                        np.where(gini.country == 'Romania', 'Rumania', \n",
    "                                                                                 np.where(gini.country == 'Vietnam', 'Republic of Vietnam', \n",
    "                                                                                          np.where(gini.country == 'Czech Republic', 'Czechoslovakia', \n",
    "                                                                                                   np.where(gini.country == 'Eswatini', 'Swaziland', \n",
    "                                                                                                            np.where(gini.country == 'Germany', 'German Democratic Republic', gini.country)))))))))))\n",
    "\n",
    "gini_sub = gini[(gini.country == 'Russia') | (gini.country == 'Yemen') | (gini.country == 'Kyrgyz Republic') | (gini.country == \"Cote d'Ivoire\")].copy()\n",
    "gini_sub['country']  = np.where(gini_sub.country == 'Russia', 'USSR', \n",
    "                               np.where(gini_sub.country == \"Cote d'Ivoire\", 'Ivory Coast', \n",
    "                                       np.where(gini_sub.country =='Kyrgyz Republic', 'Kyrgyzstan', \n",
    "                                               np.where(gini_sub.country == 'Yemen', 'Yemen Arab Republic', gini_sub.country))))\n",
    "gini_sub2 = gini[gini.country == 'Yemen'].copy()\n",
    "gini = pd.concat([gini,gini_sub])\n",
    "\n",
    "gini_sub2['country'] = np.where(gini_sub2.country =='Yemen', 'Yemen PDR', gini_sub2.country)\n",
    "gini = pd.concat([gini, gini_sub2])\n",
    "gini_countries = gini.country.to_list()\n",
    "coup_countries = coup.country.to_list()\n",
    "\n",
    "years = gini.columns.to_list()[1:]\n",
    "coup_countries = coup.country.unique().tolist()\n",
    "country_dfs = []\n",
    "for c in coup_countries:\n",
    "    ginis = gini[(gini.country == c)].values.flatten().tolist()[1:]\n",
    "    for y in years:\n",
    "        data = {'country': [c],\n",
    "                'year': [y],\n",
    "                'gini': ginis[years.index(y)]}\n",
    "        df = pd.DataFrame(data)\n",
    "        country_dfs.append(df)\n",
    "gini2 = pd.concat(country_dfs, ignore_index=True)\n",
    "gini2['year'] = gini2.year.astype('int')\n",
    "\n",
    "coup = pd.merge(coup, gini2, how='left', on=['country', 'year'])"
   ]
  },
  {
   "cell_type": "markdown",
   "id": "34bcac67",
   "metadata": {
    "id": "34bcac67"
   },
   "source": [
    "# Merge Life Expectancy Data"
   ]
  },
  {
   "cell_type": "code",
   "execution_count": 53,
   "id": "a3bb17f0",
   "metadata": {
    "id": "a3bb17f0"
   },
   "outputs": [],
   "source": [
    "life = pd.read_csv(\"data/life_expectancy_years.csv\")\n",
    "\n",
    "# Countries under different names\n",
    "problems = {\"East Timor\":\"Timor-Leste\",\n",
    "            \"Kyrgyzstan\":\"Kyrgyz Republic\",\n",
    "            \"Laos\":\"Lao\",\n",
    "            \"Ivory Coast\":\"Cote d'Ivoire\",\n",
    "            \"Democratic Republic of the Congo\":\"Congo, Dem. Rep.\",\n",
    "            \"Congo\":\"Congo, Rep.\",\n",
    "            \"Czechoslovakia\":\"Czech Republic\",\n",
    "            \"German Democratic Republic\":\"Germany\",\n",
    "            \"Republic of Korea\":\"South Korea\",\n",
    "            \"Republic of Vietnam\":\"Vietnam\",\n",
    "            \"Rumania\":\"Romania\",\n",
    "            \"Swaziland\":\"Eswatini\",\n",
    "            \"United States of America\":\"United States\",\n",
    "            \"USSR\":\"Russia\",\n",
    "            \"Yemen Arab Republic\":\"Yemen\",\n",
    "            \"Yemen PDR\":\"Yemen\"\n",
    "}\n",
    "\n",
    "exp_list = []\n",
    "prob = []\n",
    "for i in range(np.shape(coup)[0]):\n",
    "    curr_country = coup[\"country\"][i]\n",
    "    curr_year = coup[\"year\"][i]\n",
    "    if curr_country in problems.keys():\n",
    "        curr_country = problems[curr_country]\n",
    "    if curr_country in life[\"country\"].tolist():\n",
    "        idx = life.index[life['country']== curr_country].tolist()[0]\n",
    "        exp = life[str(curr_year)][idx]\n",
    "        exp_list.append(exp)\n",
    "        \n",
    "    else:\n",
    "        exp_list.append(np.nan)  \n",
    "\n",
    "coup[\"life_expectancy\"] = exp_list"
   ]
  },
  {
   "cell_type": "markdown",
   "id": "17538a11",
   "metadata": {
    "id": "17538a11"
   },
   "source": [
    "# Merge Mean Household Income Data"
   ]
  },
  {
   "cell_type": "code",
   "execution_count": 54,
   "id": "92c53c17",
   "metadata": {
    "colab": {
     "base_uri": "https://localhost:8080/",
     "height": 397
    },
    "id": "92c53c17",
    "outputId": "892dd4d1-c11e-4697-c169-96eccad25928"
   },
   "outputs": [],
   "source": [
    "hhinc = pd.read_csv(\"data/mhhinc.csv\")\n",
    "\n",
    "exp_list = []\n",
    "for i in range(np.shape(coup)[0]):\n",
    "    curr_country = coup[\"country\"][i]\n",
    "    curr_year = coup[\"year\"][i]\n",
    "    if curr_country in problems.keys():\n",
    "        curr_country = problems[curr_country]\n",
    "    if curr_country in hhinc[\"country\"].tolist():\n",
    "        idx = hhinc.index[hhinc['country']== curr_country].tolist()[0]\n",
    "        exp = hhinc[str(curr_year)][idx]\n",
    "        exp_list.append(exp)\n",
    "    else:\n",
    "        exp_list.append(np.nan) \n",
    "        \n",
    "for i in range(len(exp_list)):\n",
    "    if type(exp_list[i])==str and \"k\" in exp_list[i]:\n",
    "        curr_exp = float(exp_list[i][:-1])*1000\n",
    "        exp_list[i] = curr_exp\n",
    "coup[\"hhinc\"] = exp_list"
   ]
  },
  {
   "cell_type": "markdown",
   "id": "9073ed5f",
   "metadata": {
    "id": "9073ed5f"
   },
   "source": [
    "# Merge Total Population"
   ]
  },
  {
   "cell_type": "code",
   "execution_count": 55,
   "id": "3b842229",
   "metadata": {
    "id": "3b842229"
   },
   "outputs": [],
   "source": [
    "pop = pd.read_csv(\"data/population_total.csv\")\n",
    "\n",
    "exp_list = []\n",
    "for i in range(np.shape(coup)[0]):\n",
    "    curr_country = coup[\"country\"][i]\n",
    "    curr_year = coup[\"year\"][i]\n",
    "    if curr_country in problems.keys():\n",
    "        curr_country = problems[curr_country]\n",
    "    if curr_country in pop[\"country\"].tolist():\n",
    "        idx = pop.index[pop['country']== curr_country].tolist()[0]\n",
    "        exp = pop[str(curr_year)][idx]\n",
    "        exp_list.append(exp)\n",
    "    else:\n",
    "        exp_list.append(np.nan)   \n",
    "        \n",
    "for i in range(len(exp_list)):\n",
    "    if type(exp_list[i])==str and \"k\" in exp_list[i]:\n",
    "        curr_exp = float(exp_list[i][:-1])*1000\n",
    "        exp_list[i] = curr_exp\n",
    "    if type(exp_list[i])==str and \"M\" in exp_list[i]:\n",
    "        curr_exp = float(exp_list[i][:-1])*1000000\n",
    "        exp_list[i] = curr_exp\n",
    "    if type(exp_list[i])==str and \"B\" in exp_list[i]:\n",
    "        curr_exp = float(exp_list[i][:-1])*1000000000\n",
    "        exp_list[i] = curr_exp\n",
    "    \n",
    "coup[\"population\"] = exp_list"
   ]
  },
  {
   "cell_type": "markdown",
   "id": "dcb22254",
   "metadata": {
    "id": "dcb22254"
   },
   "source": [
    "# Merge Population Growth Data"
   ]
  },
  {
   "cell_type": "code",
   "execution_count": 56,
   "id": "43f039bf",
   "metadata": {
    "id": "43f039bf"
   },
   "outputs": [],
   "source": [
    "growth = pd.read_csv(\"data/population_growth_annual_percent.csv\")\n",
    "\n",
    "exp_list = []\n",
    "for i in range(np.shape(coup)[0]):\n",
    "    curr_country = coup[\"country\"][i]\n",
    "    curr_year = coup[\"year\"][i]\n",
    "    if curr_year < 1960:\n",
    "        curr_year = 1960\n",
    "    if curr_country in problems.keys():\n",
    "        curr_country = problems[curr_country]\n",
    "    if curr_country in growth[\"country\"].tolist():\n",
    "        idx = growth.index[growth['country']== curr_country].tolist()[0]\n",
    "        exp = growth[str(curr_year)][idx]\n",
    "        exp_list.append(exp)\n",
    "    else:\n",
    "        exp_list.append(np.nan)    \n",
    "\n",
    "coup[\"pop_growth\"] = exp_list"
   ]
  },
  {
   "cell_type": "markdown",
   "id": "7b504e4e",
   "metadata": {
    "id": "7b504e4e"
   },
   "source": [
    "# Merge Sex Ratio Data"
   ]
  },
  {
   "cell_type": "code",
   "execution_count": 57,
   "id": "f55b3f9c",
   "metadata": {
    "id": "f55b3f9c"
   },
   "outputs": [],
   "source": [
    "sex = pd.read_csv(\"data/sex_ratio_all_age_groups.csv\")\n",
    "\n",
    "exp_list = []\n",
    "for i in range(np.shape(coup)[0]):\n",
    "    curr_country = coup[\"country\"][i]\n",
    "    curr_year = coup[\"year\"][i]\n",
    "    if curr_year < 1949:\n",
    "        curr_year = 1949\n",
    "    if curr_country in problems.keys():\n",
    "        curr_country = problems[curr_country]\n",
    "    if curr_country in sex[\"country\"].tolist():\n",
    "        idx = sex.index[sex['country']== curr_country].tolist()[0]\n",
    "        exp = sex[str(curr_year)][idx]\n",
    "        exp_list.append(exp)\n",
    "    else:\n",
    "        exp_list.append(np.nan)    \n",
    "\n",
    "for i in range(len(exp_list)):\n",
    "    exp_list[i] = int(exp_list[i])/100\n",
    "    \n",
    "coup[\"sex_ratio\"] = exp_list"
   ]
  },
  {
   "cell_type": "markdown",
   "id": "e373f6e1",
   "metadata": {
    "id": "e373f6e1"
   },
   "source": [
    "# Merge GDP Per Capita"
   ]
  },
  {
   "cell_type": "code",
   "execution_count": 58,
   "id": "7212ad4f",
   "metadata": {
    "id": "7212ad4f"
   },
   "outputs": [],
   "source": [
    "gdppc = pd.read_csv(\"data/income_per_person_gdppercapita_ppp_inflation_adjusted.csv\")\n",
    "\n",
    "exp_list = []\n",
    "for i in range(np.shape(coup)[0]):\n",
    "    curr_country = coup[\"country\"][i]\n",
    "    curr_year = coup[\"year\"][i]\n",
    "    if curr_country in problems.keys():\n",
    "        curr_country = problems[curr_country]\n",
    "    if curr_country in gdppc[\"country\"].tolist():\n",
    "        idx = gdppc.index[gdppc['country']== curr_country].tolist()[0]\n",
    "        exp = gdppc[str(curr_year)][idx]\n",
    "        exp_list.append(exp)\n",
    "    else:\n",
    "        exp_list.append(np.nan)    \n",
    "        \n",
    "for i in range(len(exp_list)):\n",
    "    if type(exp_list[i])==str and \"k\" in exp_list[i]:\n",
    "        curr_exp = float(exp_list[i][:-1])*1000\n",
    "        exp_list[i] = curr_exp\n",
    "coup[\"gdppc\"] = exp_list"
   ]
  },
  {
   "cell_type": "markdown",
   "id": "c080d27f",
   "metadata": {
    "id": "c080d27f"
   },
   "source": [
    "# Merge GDP Growth"
   ]
  },
  {
   "cell_type": "code",
   "execution_count": 59,
   "id": "41b90b72",
   "metadata": {
    "id": "41b90b72"
   },
   "outputs": [],
   "source": [
    "gdpgrwth = pd.read_csv(\"data/gdp_total_yearly_growth.csv\")\n",
    "\n",
    "exp_list = []\n",
    "for i in range(np.shape(coup)[0]):\n",
    "    curr_country = coup[\"country\"][i]\n",
    "    curr_year = coup[\"year\"][i]\n",
    "    if curr_year >2012:\n",
    "        curr_year = 2012\n",
    "    if curr_country in problems.keys():\n",
    "        curr_country = problems[curr_country]\n",
    "    if curr_country in gdpgrwth[\"country\"].tolist():\n",
    "        idx = gdpgrwth.index[gdpgrwth['country']== curr_country].tolist()[0]\n",
    "        exp = gdpgrwth[str(curr_year)][idx]\n",
    "        exp_list.append(exp)\n",
    "    else:\n",
    "        exp_list.append(np.nan)    \n",
    "        \n",
    "coup[\"gdpgrwth\"] = exp_list\n"
   ]
  },
  {
   "cell_type": "markdown",
   "id": "a0cc15d1",
   "metadata": {
    "id": "a0cc15d1"
   },
   "source": [
    "# Merge Previous Coup Data"
   ]
  },
  {
   "cell_type": "code",
   "execution_count": 60,
   "id": "32e1c20b",
   "metadata": {
    "id": "32e1c20b"
   },
   "outputs": [],
   "source": [
    "country_name_change = {\"Kyrgyzstan\":\"Kyrgyz Republic\",\n",
    "            \"Czechoslovakia\":\"Czech Republic\",\n",
    "            \"German Democratic Republic\":\"Germany\",\n",
    "            \"USSR\":\"Russia\",\n",
    "            \"Kyrgyz Republic\":\"Kyrgyzstan\",\n",
    "            \"Czech Republic\":\"Czechoslovakia\",\n",
    "            \"Germany\":\"German Democratic Republic\",\n",
    "            \"Russia\":\"USSR\"\n",
    "}\n",
    "\n",
    "id_1 = []\n",
    "id_2 = []\n",
    "id_3 = []\n",
    "id_4 = []\n",
    "id_5 = []\n",
    "id_6 = []\n",
    "id_7 = []\n",
    "\n",
    "for i in range(np.shape(coup)[0]):\n",
    "    curr_year = coup[\"year\"][i]\n",
    "    curr_country = coup[\"country\"][i]\n",
    "    country_list = [curr_country]\n",
    "    \n",
    "    if curr_country in country_name_change.keys():\n",
    "        country_list.append(country_name_change[curr_country])\n",
    "        id_6.append(1)\n",
    "    \n",
    "    elif \"Yemen\" in curr_country:\n",
    "        country_list = [\"Yemen\", \"Yemen Arab Republic\", \"Yemen PDR\"]\n",
    "        id_6.append(2)\n",
    "        \n",
    "    else: \n",
    "        id_6.append(0)\n",
    "        \n",
    "    # taking country subset\n",
    "    curr_subset = coup[coup[\"country\"].isin(country_list)]\n",
    "    curr_subset = curr_subset[curr_subset[\"year\"]<curr_year]\n",
    "    \n",
    "    # previous coup attempts (all time)\n",
    "    id_1.append(np.shape(curr_subset)[0])\n",
    "    \n",
    "    # previous coup attempts (5 yrs)\n",
    "    subsubset = curr_subset[curr_subset[\"year\"]>curr_year-5]\n",
    "    id_2.append(np.shape(subsubset)[0])\n",
    "    \n",
    "    # previous coup failures\n",
    "    id_3.append(np.sum(curr_subset[\"unrealized\"]))\n",
    "    \n",
    "    # previous coup successes\n",
    "    id_4.append(np.sum(curr_subset[\"realized\"]))\n",
    "    \n",
    "    # previous leader harm\n",
    "    id_5.append(np.sum(curr_subset[\"injured\"])+np.sum(curr_subset[\"killed\"]))\n",
    "    \n",
    "    # previous leader court\n",
    "    id_7.append(np.sum(curr_subset[\"harrest\"])+np.sum(curr_subset[\"jailed\"])+np.sum(curr_subset[\"tried\"]))"
   ]
  },
  {
   "cell_type": "markdown",
   "id": "05ce2857",
   "metadata": {
    "id": "05ce2857"
   },
   "source": [
    "# Merge and Impute Polity 5 Data"
   ]
  },
  {
   "cell_type": "code",
   "execution_count": null,
   "id": "f845c539",
   "metadata": {
    "id": "f845c539"
   },
   "outputs": [],
   "source": [
    "'''\n",
    "-Cases of -77 indicate interregum periods (period between ruling system of power), so we indicate 0 to denote that the scores are not applicable in ,\n",
    "-Cases of -88 indicate transition periods between standing regimes, so we resolve this by imputing the average score of the nation in each column as a rough estimator\n",
    "of political conditions during the transition period\n",
    "-Cases of -66 means that a governing system is missing (so we impute scores of 0 to denote not applicable) (Page 17 of Polity5 Guide)'''\n",
    "\n",
    "polity = pd.read_csv('data/p5v2018.csv')\n",
    "\n",
    "polity = polity.rename(columns={\n",
    "    'ccode':'cowcode'\n",
    "})\n",
    "\n",
    "polity = polity[['year', 'cowcode', 'democ', 'autoc', 'polity2', 'durable', 'xrcomp', 'xropen', 'xconst', 'parreg', 'parcomp', 'exrec']]\n",
    "\n",
    "coup = coup.merge(polity, on=['cowcode', 'year'], how='left', suffixes=(False, False))\n",
    "\n",
    "country_ids = ['coup_id', 'cowcode', 'country', 'year']\n",
    "polity_cols = ['democ', 'autoc', 'polity', 'polity2', 'durable', 'xrreg', 'xrcomp',\n",
    "              'xropen', 'xconst', 'parreg', 'parcomp', 'exrec']\n",
    "\n",
    "\n",
    "#Impute 0's for -77 code\n",
    "\n",
    "coup[\"standing_regime\"] = np.where(coup[\"democracy\"] == -77, 0, 1)\n",
    "for feature in polity_cols:\n",
    "    coup[feature].mask(coup[feature] == -77, 0, inplace=True)\n",
    "display(coup)\n",
    "\n",
    "\n",
    "# Impute 0s for -66 code\n",
    "\n",
    "coup[\"standing_regime\"].mask(coup['democ'] == -66, 0, inplace=True)\n",
    "for feature in polity_cols:\n",
    "    coup[feature].mask(coup[feature] == -66, 0, inplace=True)\n",
    "    \n",
    "coup = coup.rename(columns={'democ': 'democracy', 'autoc': 'autocracy',\n",
    "                        'polity2':'polity2_score', 'durable':'years_of_regime_pow', 'xrcomp':'exec_competitive_score', \n",
    "                        'xropen': 'exec_openness_score', 'xconst': 'exec_constraint_score', 'parreg' : 'political_regularity', \n",
    "                        'parcomp' : 'political_competitiveness','exrec': 'exec_recruitment'})\n",
    "\n",
    "#Impute data for -88 code\n",
    "\n",
    "p5_df = pd.read_excel(\"data/p5v2018.xls\")\n",
    "\n",
    "relevant_p5 = p5_df[[\"country\"] + polity_cols]\n",
    "\n",
    "coup[\"standing_regime\"].mask(coup['democracy'] == -88, 0, inplace=True)\n",
    "\n",
    "country_list = [x for x in coup['country'].unique() if x in relevant_p5['country'].unique()]\n",
    "\n",
    "for country in country_list:\n",
    "    country_df = relevant_p5[relevant_p5['country'] == country]\n",
    "\n",
    "    for i in range(len(polity_cols)):\n",
    "        feature_avg = int(np.round(np.mean(country_df[country_df[polity_cols[i]] != -88][polity_cols[i]])))\n",
    "        \n",
    "        # Impute means of non-standing government and missing observation\n",
    "        coup[polity_cols[i]].mask(coup[polity_cols[i]] == -88, feature_avg, inplace=True)\n",
    "\n",
    "        coup[polity_cols[i]].mask(coup[polity_cols[i]].isna(), feature_avg, inplace=True)\n",
    "\n",
    "\n",
    "coup = coup.rename(columns={'democ': 'democracy', 'autoc': 'autocracy',\n",
    "                        'polity2':'polity2_score', 'durable':'years_of_regime_pow', 'xrcomp':'exec_competitive_score', \n",
    "                        'xropen': 'exec_openness_score', 'xconst': 'exec_constraint_score', 'parreg' : 'political_regularity', \n",
    "                        'parcomp' : 'political_competitiveness','exrec': 'exec_recruitment'})\n"
   ]
  },
  {
   "cell_type": "markdown",
   "id": "6d61b5d7",
   "metadata": {
    "id": "6d61b5d7"
   },
   "source": [
    "# Merge and Impute Political Violence Data"
   ]
  },
  {
   "cell_type": "code",
   "execution_count": null,
   "id": "aeb9ddb3",
   "metadata": {
    "id": "aeb9ddb3"
   },
   "outputs": [],
   "source": [
    "\n",
    "poly_vio_df = pd.read_csv('MEPVv2018.xls')\n",
    "\n",
    "#Grenada, the Maldives, Seychelles, Sao Tome and Principe, and Dominica are not present, Egypt(1947) is not present\n",
    "\n",
    "alt_code_dict = {769:770, 365:393, 364:365, 529:530, 626:625, 525:626}\n",
    "\n",
    "poly_vio_df['ccode'] = poly_vio_df['ccode'].replace(alt_code_dict)\n",
    "\n",
    "display(poly_vio_df[poly_vio_df['ccode'] == 770])\n",
    "\n",
    "poly_vio_df['cowcode'] = poly_vio_df.ccode\n",
    "\n",
    "relevant_polyv_cols = ['cowcode', 'year', 'intind',\n",
    "       'intviol', 'intwar', 'civviol', 'civwar', 'ethviol', 'ethwar', 'inttot',\n",
    "       'civtot', 'actotal', 'nborder']\n",
    "new_coup = pd.merge(coup, poly_vio_df[relevant_polyv_cols], how='left', on=['cowcode', 'year'])\n",
    "\n",
    "missing = new_coup[new_coup.civtot.isna() == True]\n",
    "\n",
    "fill_list = []\n",
    "\n",
    "for i in range(len(missing)):\n",
    "       curr_code = new_coup[new_coup.civtot.isna() == True].iloc[i]['cowcode']\n",
    "       curr_year = new_coup[new_coup.civtot.isna() == True].iloc[i]['year']\n",
    "       \n",
    "       new_entry = poly_vio_df[(poly_vio_df['cowcode'] == curr_code) & (poly_vio_df['year'] == curr_year-1)][relevant_polyv_cols]\n",
    "       \n",
    "       if new_entry.empty:\n",
    "              new_entry = poly_vio_df[(poly_vio_df['cowcode'] == curr_code) & (poly_vio_df['year'] == curr_year+1)][relevant_polyv_cols]\n",
    "       if new_entry.empty:\n",
    "              continue\n",
    "       fill_list.append(new_entry.values.tolist())\n",
    "\n",
    "new_coup.rename(columns={'intind':'indep_viol_mag', 'intviol':'intl_viol_mag',\n",
    "       'intwar':'intl_war_mag', 'civviol':'civil_viol_mag', 'civwar':'civil_war_mag', 'ethviol':'ethnic_viol_mag',\n",
    "       'ethwar':'ethnic_war_mag', 'inttot':'total_intl_viol_mag', 'civtot':'total_civil_viol_mag',\n",
    "       'actotal': 'total_viol_mag' , 'nborder':'number_of_neighbors'})\n",
    "\n",
    "\n",
    "code_list = [x[0][0] for x in fill_list]\n",
    "year_list = [x[0][1] for x in fill_list]\n",
    "\n",
    "\n",
    "change = new_coup['civviol'].isna()\n",
    "for i in range(len(fill_list)):\n",
    "    new_coup.loc[change & (new_coup['cowcode'] == code_list[i]) & (new_coup['year'] == year_list[i]+1), relevant_polyv_cols[2:]] = fill_list[i][0][2:]\n",
    "    new_coup.loc[change & (new_coup['cowcode'] == code_list[i]) & (new_coup['year'] == year_list[i]-1), relevant_polyv_cols[2:]] = fill_list[i][0][2:]\n",
    " \n",
    "# Switched cow code so DRC must be entered manually\n",
    "new_coup.loc[change & (new_coup['cowcode'] == 480) & (new_coup['year'] == 2013), relevant_polyv_cols[2:]] = [0,0,0,0,5,1,0,0,6,6,8]\n",
    "\n",
    "#The other 16 columns cannot be resolved and so it is we could consider dropping them\n",
    "\n",
    "y2 = new_coup[new_coup.civtot.isna() == True]\n",
    "display(y2)\n",
    "\n",
    "new_coup = new_coup.drop(index=[15,309,335,402,403,404,405,572,573,574,742,743,745,746,747,748])\n",
    "\n",
    "new_coup[new_coup['pop_growth'].isna() == True]['pop_growth'] = 1.35\n",
    "\n",
    "y3 = coup['pop_growth'].isna().sum()\n",
    "display(coup.isna().sum(axis=0))\n",
    "y3[y3 > 0]\n",
    "\n",
    "new_coup.to_csv(\"coup_no_missingness.csv\")"
   ]
  },
  {
   "cell_type": "code",
   "execution_count": 24,
   "id": "59c5eb7b",
   "metadata": {
    "id": "59c5eb7b"
   },
   "outputs": [],
   "source": [
    "# Create dummy indicators for columns with string values\n",
    "def dummy_gen(column):\n",
    "    unique_vals = coup[column].unique().tolist()\n",
    "    for u in unique_vals:\n",
    "        coup[u] = np.where(coup[column] == u, 1, 0)\n",
    "    coup.drop(columns=[column], inplace=True)"
   ]
  },
  {
   "cell_type": "code",
   "execution_count": null,
   "id": "fe4eaa41",
   "metadata": {},
   "outputs": [],
   "source": []
  },
  {
   "cell_type": "code",
   "execution_count": null,
   "id": "71deed65",
   "metadata": {},
   "outputs": [],
   "source": []
  }
 ],
 "metadata": {
  "colab": {
   "provenance": []
  },
  "kernelspec": {
   "display_name": "Python 3 (ipykernel)",
   "language": "python",
   "name": "python3"
  },
  "language_info": {
   "codemirror_mode": {
    "name": "ipython",
    "version": 3
   },
   "file_extension": ".py",
   "mimetype": "text/x-python",
   "name": "python",
   "nbconvert_exporter": "python",
   "pygments_lexer": "ipython3",
   "version": "3.10.6"
  }
 },
 "nbformat": 4,
 "nbformat_minor": 5
}
